{
  "nbformat": 4,
  "nbformat_minor": 0,
  "metadata": {
    "colab": {
      "provenance": [],
      "authorship_tag": "ABX9TyNZ+uuo3CF+c+Sx+YZi+n/0",
      "include_colab_link": true
    },
    "kernelspec": {
      "name": "python3",
      "display_name": "Python 3"
    },
    "language_info": {
      "name": "python"
    }
  },
  "cells": [
    {
      "cell_type": "markdown",
      "metadata": {
        "id": "view-in-github",
        "colab_type": "text"
      },
      "source": [
        "<a href=\"https://colab.research.google.com/github/kjh0618/Homework/blob/main/68stack_69queue.ipynb\" target=\"_parent\"><img src=\"https://colab.research.google.com/assets/colab-badge.svg\" alt=\"Open In Colab\"/></a>"
      ]
    },
    {
      "cell_type": "code",
      "execution_count": null,
      "metadata": {
        "colab": {
          "base_uri": "https://localhost:8080/"
        },
        "id": "xRNgHqfV6BOk",
        "outputId": "1cf65d3c-37e3-4f0b-a18f-a4e201cee7f6"
      },
      "outputs": [
        {
          "output_type": "stream",
          "name": "stdout",
          "text": [
            "스택상태: ['사과', [1, 2, 3], 3.14592]\n",
            "스택에서 데이터 추출: 3.14592\n",
            "스택상태: ['사과', [1, 2, 3]]\n",
            "--------------\n",
            "스택에서 데이터 추출: [1, 2, 3]\n",
            "스택상태: ['사과']\n",
            "--------------\n",
            "스택에서 데이터 추출: 사과\n",
            "스택상태: []\n",
            "--------------\n",
            "큐상태: deque(['사과', [1, 2, 3], 3.141592])\n",
            "스택에서 데이터 추출: 사과\n",
            "스택상태: []\n",
            "--------------\n",
            "스택에서 데이터 추출: [1, 2, 3]\n",
            "스택상태: []\n",
            "--------------\n",
            "스택에서 데이터 추출: 3.141592\n",
            "스택상태: []\n",
            "--------------\n"
          ]
        }
      ],
      "source": [
        "mystack = []\n",
        "\n",
        "def putData(data):\n",
        "  mystack.append(data)\n",
        "\n",
        "def popData():\n",
        "  if len(mystack) == 0:\n",
        "      return None\n",
        "  return mystack.pop()\n",
        "\n",
        "putData('사과')\n",
        "putData([1, 2, 3])\n",
        "putData(3.14592)\n",
        "print(f'스택상태: {mystack}')\n",
        "\n",
        "ret = popData()\n",
        "while ret != None:\n",
        "  print(f'스택에서 데이터 추출: {ret}')\n",
        "  print(f'스택상태: {mystack}')\n",
        "  print('--------------')\n",
        "  ret = popData()\n",
        "\n",
        "import collections\n",
        "myqueue = collections.deque([])\n",
        "\n",
        "def putData(data):\n",
        "  myqueue.append(data)\n",
        "\n",
        "def popData():\n",
        "  if len(myqueue) == 0:\n",
        "    return None\n",
        "  return myqueue.popleft()\n",
        "\n",
        "putData('사과')\n",
        "putData([1, 2, 3])\n",
        "putData(3.141592)\n",
        "print(f'큐상태: {myqueue}')\n",
        "\n",
        "ret = popData()\n",
        "while ret != None:\n",
        "  print(f'스택에서 데이터 추출: {ret}')\n",
        "  print(f'스택상태: {mystack}')\n",
        "  print('--------------')\n",
        "  ret = popData()"
      ]
    }
  ]
}