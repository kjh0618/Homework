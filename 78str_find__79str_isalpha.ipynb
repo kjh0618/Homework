{
  "nbformat": 4,
  "nbformat_minor": 0,
  "metadata": {
    "colab": {
      "provenance": [],
      "authorship_tag": "ABX9TyN8n7NhyfEA4BqFHhtN0Og4",
      "include_colab_link": true
    },
    "kernelspec": {
      "name": "python3",
      "display_name": "Python 3"
    },
    "language_info": {
      "name": "python"
    }
  },
  "cells": [
    {
      "cell_type": "markdown",
      "metadata": {
        "id": "view-in-github",
        "colab_type": "text"
      },
      "source": [
        "<a href=\"https://colab.research.google.com/github/kjh0618/Homework/blob/main/78str_find__79str_isalpha.ipynb\" target=\"_parent\"><img src=\"https://colab.research.google.com/assets/colab-badge.svg\" alt=\"Open In Colab\"/></a>"
      ]
    },
    {
      "cell_type": "code",
      "execution_count": null,
      "metadata": {
        "colab": {
          "base_uri": "https://localhost:8080/"
        },
        "id": "4PvBi6pNCKFS",
        "outputId": "bf6de997-2c50-4c76-e03d-09949dd12745"
      },
      "outputs": [
        {
          "output_type": "stream",
          "name": "stdout",
          "text": [
            "27\n",
            "\"day\"가 발견된 [1]번째 인덱스 27\n",
            "\"day\"가 발견된 [2]번째 인덱스 58\n",
            "\"day\"가 발견된 [3]번째 인덱스 -1\n",
            "\"Hello\" \t--> True\n",
            "\"오징어게임\" \t--> True\n",
            "\"파이썬 lover\" \t--> False\n",
            "\"안녕!\" \t--> False\n",
            "\"제 3세계\" \t--> False\n"
          ]
        }
      ],
      "source": [
        "sample = 'A lot of things occur each day, it\\'s very dynamical every day'\n",
        "pos = sample.find('day')\n",
        "print(pos)\n",
        "\n",
        "spos = 0\n",
        "idx = 0\n",
        "count = 1\n",
        "while idx != -1:\n",
        "  idx = sample.find('day', spos)\n",
        "  print(f'\"day\"가 발견된 [{count}]번째 인덱스 {idx}')\n",
        "  spos = idx + 1\n",
        "  count += 1\n",
        "\n",
        "strList = ['Hello', '오징어게임', '파이썬 lover', '안녕!', '제 3세계']\n",
        "for text in strList:\n",
        "  print(f'\"{text}\" \\t--> {text.isalpha()}')"
      ]
    }
  ]
}