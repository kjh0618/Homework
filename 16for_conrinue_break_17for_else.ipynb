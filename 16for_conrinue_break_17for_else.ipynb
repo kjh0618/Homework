{
  "nbformat": 4,
  "nbformat_minor": 0,
  "metadata": {
    "colab": {
      "provenance": [],
      "authorship_tag": "ABX9TyNCAP2pF2eGOEJuWgX1vb6Y",
      "include_colab_link": true
    },
    "kernelspec": {
      "name": "python3",
      "display_name": "Python 3"
    },
    "language_info": {
      "name": "python"
    }
  },
  "cells": [
    {
      "cell_type": "markdown",
      "metadata": {
        "id": "view-in-github",
        "colab_type": "text"
      },
      "source": [
        "<a href=\"https://colab.research.google.com/github/kjh0618/Homework/blob/main/16for_conrinue_break_17for_else.ipynb\" target=\"_parent\"><img src=\"https://colab.research.google.com/assets/colab-badge.svg\" alt=\"Open In Colab\"/></a>"
      ]
    },
    {
      "cell_type": "code",
      "execution_count": null,
      "metadata": {
        "id": "l96jU6C9cP3s"
      },
      "outputs": [],
      "source": [
        "strData='abcdef'\n",
        "for c in strData:\n",
        "  print(c, end='-')\n",
        "\n",
        "listData=[1,2,3,4,5]\n",
        "for idx in listData:\n",
        "  print(idx,end='-')\n",
        "\n",
        "ascii_codes={'a':97,'b':98,'c':99}\n",
        "for code in ascii_codes.items():\n",
        "  print(code)\n",
        "\n",
        "for i in range(10):\n",
        "  print(i,end='#')\n",
        "\n",
        "for i in [1,2,3,4,5]:\n",
        "  print(i)\n",
        "  if i < 2:\n",
        "    continue\n",
        "  else:\n",
        "    break\n",
        "\n",
        "for i in [1,2,3,4,5]:\n",
        "  print(i)\n",
        "  if i ==2:\n",
        "    break\n",
        "\n",
        "for x in [,2,3]:\n",
        "  prin(x)\n",
        "  if x > 1:\n",
        "    break\n",
        "else:\n",
        "  print('Perfect!')"
      ]
    }
  ]
}