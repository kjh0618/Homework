{
  "nbformat": 4,
  "nbformat_minor": 0,
  "metadata": {
    "colab": {
      "provenance": [],
      "authorship_tag": "ABX9TyOPbAv84dsGEAuj2i2Z61NZ",
      "include_colab_link": true
    },
    "kernelspec": {
      "name": "python3",
      "display_name": "Python 3"
    },
    "language_info": {
      "name": "python"
    }
  },
  "cells": [
    {
      "cell_type": "markdown",
      "metadata": {
        "id": "view-in-github",
        "colab_type": "text"
      },
      "source": [
        "<a href=\"https://colab.research.google.com/github/kjh0618/Homework/blob/main/58list_remove59list_clear.ipynb\" target=\"_parent\"><img src=\"https://colab.research.google.com/assets/colab-badge.svg\" alt=\"Open In Colab\"/></a>"
      ]
    },
    {
      "cell_type": "code",
      "execution_count": null,
      "metadata": {
        "colab": {
          "base_uri": "https://localhost:8080/",
          "height": 255
        },
        "id": "r4P0wrlBycxR",
        "outputId": "5e73ade5-1259-4ebf-dd82-d432241ab4a7"
      },
      "outputs": [
        {
          "output_type": "stream",
          "name": "stdout",
          "text": [
            "[1, 3, 1, 1, 5, 6, 2, 0, 7]\n",
            "[3, 5, 6, 2, 0, 7]\n"
          ]
        },
        {
          "output_type": "error",
          "ename": "ValueError",
          "evalue": "list.remove(x): x not in list",
          "traceback": [
            "\u001b[0;31m---------------------------------------------------------------------------\u001b[0m",
            "\u001b[0;31mValueError\u001b[0m                                Traceback (most recent call last)",
            "\u001b[0;32m/tmp/ipython-input-1984141988.py\u001b[0m in \u001b[0;36m<cell line: 0>\u001b[0;34m()\u001b[0m\n\u001b[1;32m     10\u001b[0m \u001b[0;34m\u001b[0m\u001b[0m\n\u001b[1;32m     11\u001b[0m \u001b[0mfruits\u001b[0m \u001b[0;34m=\u001b[0m \u001b[0;34m[\u001b[0m\u001b[0;34m'사과'\u001b[0m\u001b[0;34m,\u001b[0m \u001b[0;34m'배'\u001b[0m\u001b[0;34m,\u001b[0m \u001b[0;34m'오렌지'\u001b[0m\u001b[0;34m,\u001b[0m \u001b[0;34m'수박'\u001b[0m\u001b[0;34m,\u001b[0m \u001b[0;34m'참외'\u001b[0m\u001b[0;34m]\u001b[0m\u001b[0;34m\u001b[0m\u001b[0;34m\u001b[0m\u001b[0m\n\u001b[0;32m---> 12\u001b[0;31m \u001b[0mfruits\u001b[0m\u001b[0;34m.\u001b[0m\u001b[0mremove\u001b[0m\u001b[0;34m(\u001b[0m\u001b[0;34m'딸기'\u001b[0m\u001b[0;34m)\u001b[0m\u001b[0;34m\u001b[0m\u001b[0;34m\u001b[0m\u001b[0m\n\u001b[0m\u001b[1;32m     13\u001b[0m \u001b[0;34m\u001b[0m\u001b[0m\n\u001b[1;32m     14\u001b[0m \u001b[0mfruits\u001b[0m \u001b[0;34m=\u001b[0m \u001b[0;34m[\u001b[0m\u001b[0;34m'사과'\u001b[0m\u001b[0;34m,\u001b[0m \u001b[0;34m'배'\u001b[0m\u001b[0;34m,\u001b[0m \u001b[0;34m'오렌지'\u001b[0m\u001b[0;34m,\u001b[0m \u001b[0;34m'수박'\u001b[0m\u001b[0;34m,\u001b[0m \u001b[0;34m'참외'\u001b[0m\u001b[0;34m]\u001b[0m\u001b[0;34m\u001b[0m\u001b[0;34m\u001b[0m\u001b[0m\n",
            "\u001b[0;31mValueError\u001b[0m: list.remove(x): x not in list"
          ]
        }
      ],
      "source": [
        "numbers = [1, 1, 3, 1, 1, 5, 6, 2, 0, 7]\n",
        "if 1 in numbers:\n",
        "  numbers.remove(1)\n",
        "print(numbers)\n",
        "\n",
        "numbers = [1, 1, 3, 1, 1, 5, 6, 2, 0, 7]\n",
        "while 1 in numbers:\n",
        "  numbers.remove(1)\n",
        "print(numbers)\n",
        "\n",
        "fruits = ['사과', '배', '오렌지', '수박', '참외']\n",
        "fruits.remove('딸기')\n",
        "\n",
        "fruits = ['사과', '배', '오렌지', '수박', '참외']\n",
        "fruits.clear()\n",
        "print(fruits)\n",
        "\n",
        "fruits = ['사과', '배', '오렌지', '수박', '참외']\n",
        "del fruits[:]\n",
        "print(fruits)"
      ]
    }
  ]
}