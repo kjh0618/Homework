{
  "nbformat": 4,
  "nbformat_minor": 0,
  "metadata": {
    "colab": {
      "provenance": [],
      "authorship_tag": "ABX9TyOS3z+z7xqx2NwMgVJO6WOZ",
      "include_colab_link": true
    },
    "kernelspec": {
      "name": "python3",
      "display_name": "Python 3"
    },
    "language_info": {
      "name": "python"
    }
  },
  "cells": [
    {
      "cell_type": "markdown",
      "metadata": {
        "id": "view-in-github",
        "colab_type": "text"
      },
      "source": [
        "<a href=\"https://colab.research.google.com/github/kjh0618/Homework/blob/main/74chr_75escape.ipynb\" target=\"_parent\"><img src=\"https://colab.research.google.com/assets/colab-badge.svg\" alt=\"Open In Colab\"/></a>"
      ]
    },
    {
      "cell_type": "code",
      "execution_count": null,
      "metadata": {
        "colab": {
          "base_uri": "https://localhost:8080/"
        },
        "id": "4PvBi6pNCKFS",
        "outputId": "4727f09b-a805-41a4-8115-4c17cd80fe1f"
      },
      "outputs": [
        {
          "output_type": "stream",
          "name": "stdout",
          "text": [
            "0x로 시작하는 16진수 문자 코드값을 입력하세요[끝내려면 엔터를 치세요]:\n",
            "파이썬은 자바보다 쉽습니다.＼n그래서 나는 파이썬을 사랑합니다.\n",
            "파이썬은 자바보다 쉽습니다.그래서 나는 파이썬을 사랑합니다.\n",
            "이스케이프 문자 \"\\t\"는 탭을 의미합니다\n",
            "＼파이썬'은 뱀의 한 종류입니다.\n"
          ]
        }
      ],
      "source": [
        "while True:\n",
        "  code = input('0x로 시작하는 16진수 문자 코드값을 입력하세요[끝내려면 엔터를 치세요]:')\n",
        "  if len (code) == 0:\n",
        "    break\n",
        "  unicode = int(code, 16)\n",
        "  try:\n",
        "    ch = chr(unicode)\n",
        "    print(f'--> 코드값: {code}, 문자:\"{ch}\"')\n",
        "  except ValueError:\n",
        "    print(f'코드값 {code}에 해당하는 문자가 존재하지 않습니다.')\n",
        "\n",
        "print('파이썬은 자바보다 쉽습니다.＼n그래서 나는 파이썬을 사랑합니다.')\n",
        "\n",
        "text = '파이썬은 자바보다 쉽습니다.\\\n",
        "그래서 나는 파이썬을 사랑합니다.'\n",
        "print(text)\n",
        "\n",
        "print('이스케이프 문자 \"\\\\t\"는 탭을 의미합니다')\n",
        "\n",
        "print('＼파이썬\\'은 뱀의 한 종류입니다.')"
      ]
    }
  ]
}