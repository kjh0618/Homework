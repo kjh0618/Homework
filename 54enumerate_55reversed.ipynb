{
  "nbformat": 4,
  "nbformat_minor": 0,
  "metadata": {
    "colab": {
      "provenance": [],
      "authorship_tag": "ABX9TyP7ZREA0Ld94HY0I47h5Z0g",
      "include_colab_link": true
    },
    "kernelspec": {
      "name": "python3",
      "display_name": "Python 3"
    },
    "language_info": {
      "name": "python"
    }
  },
  "cells": [
    {
      "cell_type": "markdown",
      "metadata": {
        "id": "view-in-github",
        "colab_type": "text"
      },
      "source": [
        "<a href=\"https://colab.research.google.com/github/kjh0618/Homework/blob/main/54enumerate_55reversed.ipynb\" target=\"_parent\"><img src=\"https://colab.research.google.com/assets/colab-badge.svg\" alt=\"Open In Colab\"/></a>"
      ]
    },
    {
      "cell_type": "code",
      "execution_count": null,
      "metadata": {
        "colab": {
          "base_uri": "https://localhost:8080/"
        },
        "id": "r4P0wrlBycxR",
        "outputId": "12c067b9-dca1-4e76-80fb-2683ebcac86f"
      },
      "outputs": [
        {
          "output_type": "stream",
          "name": "stdout",
          "text": [
            "태양계의 0번째 천체: 태양\n",
            "태양계의 1번째 천체: 수성\n",
            "태양계의 2번째 천체: 금성\n",
            "태양계의 3번째 천체: 지구\n",
            "태양계의 4번째 천체: 화성\n",
            "태양계의 5번째 천체: 목성\n",
            "태양계의 6번째 천체: 토성\n",
            "태양계의 7번째 천체: 천왕성\n",
            "태양계의 8번째 천체: 해왕성\n",
            "[(1, '봄'), (2, '여름'), (3, '가을'), (4, '겨울')]\n",
            "['수박', '오렌지', '배', '사과']\n",
            "('사과', '배', '오렌지', '수박')\n",
            "5\n",
            "4\n",
            "3\n",
            "2\n",
            "1\n"
          ]
        }
      ],
      "source": [
        "solarsys = ['태양', '수성', '금성', '지구', '화성', '목성', '토성', '천왕성', '해왕성']\n",
        "for i, body in enumerate(solarsys):\n",
        "    print(f'태양계의 {i}번째 천체: {body}')\n",
        "\n",
        "seasons = ['봄', '여름', '가을', '겨울']\n",
        "print(list(enumerate(seasons, start=1)))\n",
        "\n",
        "# enumerate()를 구현한 제너레이터\n",
        "def myEnumerate(sequence, start=0):\n",
        "    n = start\n",
        "    for item in iterable:\n",
        "        yield (n, item)\n",
        "        n += 1\n",
        "\n",
        "fruits = ('사과', '배', '오렌지', '수박')\n",
        "ret = reversed(fruits)\n",
        "print(list(ret))\n",
        "\n",
        "print(fruits)\n",
        "\n",
        "for i in reversed(range(1, 6)):\n",
        "  print(i)"
      ]
    }
  ]
}