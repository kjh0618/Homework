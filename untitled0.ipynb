{
  "nbformat": 4,
  "nbformat_minor": 0,
  "metadata": {
    "colab": {
      "provenance": [],
      "authorship_tag": "ABX9TyPcl/YS9f70PgYMhq/6dIX+",
      "include_colab_link": true
    },
    "kernelspec": {
      "name": "python3",
      "display_name": "Python 3"
    },
    "language_info": {
      "name": "python"
    }
  },
  "cells": [
    {
      "cell_type": "markdown",
      "metadata": {
        "id": "view-in-github",
        "colab_type": "text"
      },
      "source": [
        "<a href=\"https://colab.research.google.com/github/kjh0618/Homework/blob/main/untitled0.ipynb\" target=\"_parent\"><img src=\"https://colab.research.google.com/assets/colab-badge.svg\" alt=\"Open In Colab\"/></a>"
      ]
    },
    {
      "cell_type": "code",
      "execution_count": null,
      "metadata": {
        "colab": {
          "base_uri": "https://localhost:8080/",
          "height": 110
        },
        "id": "O3EpAYmy8BFA",
        "outputId": "19d50551-cfe2-4013-bc74-f60c4b71edf6"
      },
      "outputs": [
        {
          "output_type": "error",
          "ename": "SyntaxError",
          "evalue": "cannot assign to expression here. Maybe you meant '==' instead of '='? (ipython-input-3842840905.py, line 7)",
          "traceback": [
            "\u001b[0;36m  File \u001b[0;32m\"/tmp/ipython-input-3842840905.py\"\u001b[0;36m, line \u001b[0;32m7\u001b[0m\n\u001b[0;31m    _%var='Temp Variables'\u001b[0m\n\u001b[0m    ^\u001b[0m\n\u001b[0;31mSyntaxError\u001b[0m\u001b[0;31m:\u001b[0m cannot assign to expression here. Maybe you meant '==' instead of '='?\n"
          ]
        }
      ],
      "source": [
        "from typing_extensions import Literal\n",
        "_myname='samsjang'\n",
        "my_name='홍길동'\n",
        "myName3='Hong gil-dong'\n",
        "country='대한민국'\n",
        "\n",
        "_%var='Temp Variables'\n",
        "@address='samsjang@naver.com'\n",
        "\n",
        "counter=1\n",
        "Counter=2\n",
        "\n",
        "intData=1\n",
        "pi=3.14\n",
        "flag=True\n",
        "ch='x'\n",
        "strData='사랑해요 파이썬!'\n"
      ]
    }
  ]
}