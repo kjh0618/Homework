{
  "nbformat": 4,
  "nbformat_minor": 0,
  "metadata": {
    "colab": {
      "provenance": [],
      "authorship_tag": "ABX9TyPDAuR8Yqj4fQAMtEqqXtOn",
      "include_colab_link": true
    },
    "kernelspec": {
      "name": "python3",
      "display_name": "Python 3"
    },
    "language_info": {
      "name": "python"
    }
  },
  "cells": [
    {
      "cell_type": "markdown",
      "metadata": {
        "id": "view-in-github",
        "colab_type": "text"
      },
      "source": [
        "<a href=\"https://colab.research.google.com/github/kjh0618/Homework/blob/main/30_round_31_int_float_str.ipynb\" target=\"_parent\"><img src=\"https://colab.research.google.com/assets/colab-badge.svg\" alt=\"Open In Colab\"/></a>"
      ]
    },
    {
      "cell_type": "code",
      "execution_count": null,
      "metadata": {
        "colab": {
          "base_uri": "https://localhost:8080/",
          "height": 110
        },
        "id": "a2A6CCdLbySi",
        "outputId": "8d7a04b8-a0c9-4db7-a7f2-d7f1a27a1294"
      },
      "outputs": [
        {
          "output_type": "error",
          "ename": "SyntaxError",
          "evalue": "incomplete input (ipython-input-2019255401.py, line 40)",
          "traceback": [
            "\u001b[0;36m  File \u001b[0;32m\"/tmp/ipython-input-2019255401.py\"\u001b[0;36m, line \u001b[0;32m40\u001b[0m\n\u001b[0;31m    print(f'실수 {floatData2} => 문자열 {strData3}, {type(strData3)}'\u001b[0m\n\u001b[0m                                                                ^\u001b[0m\n\u001b[0;31mSyntaxError\u001b[0m\u001b[0;31m:\u001b[0m incomplete input\n"
          ]
        }
      ],
      "source": [
        "ret = round(42.195)\n",
        "print(ret)\n",
        "\n",
        "ret = round(42.195, 0)\n",
        "print(ret)\n",
        "\n",
        "ret = round(42.195, 1)\n",
        "print(ret)\n",
        "\n",
        "ret = round(42.195, -1)\n",
        "print(ret)\n",
        "\n",
        "floatData = 1234.5\n",
        "intData = int(floatData)\n",
        "print(f'intData: {intData}')\n",
        "\n",
        "strData = '1234.5'\n",
        "floatData = float(strData)\n",
        "print(f'floatData {floatData} 자료형은 {type(inData)}입니다.')\n",
        "\n",
        "strData = '1234'\n",
        "intData = int(strData)\n",
        "print(f'intData {intData} 자료형은 {type(intData)}입니다.')\n",
        "\n",
        "strData = '1234.5'\n",
        "intData = int(strData)\n",
        "\n",
        "strData = '1234.5'\n",
        "floatData = float(strData)\n",
        "print(f'floatData {floatData} 자료형은 {type(floatData)}입니다.')\n",
        "\n",
        "print(float('2E5'))\n",
        "print(float('2e-3'))\n",
        "\n",
        "intData = 1234; strData1 = str(intData)\n",
        "floatData1 = 1234.5; strData2 = strData2 = str(floatData1)\n",
        "floatData2 = 1e-3; strData3 = str(floatData2)\n",
        "print(f'정수 {intData} => 문자열 {strData1}, {type(strData1)}')\n",
        "print(f'실수 {floatData1} => 문자열 {strData2}, {type(strData2)}')\n",
        "print(f'실수 {floatData2} => 문자열 {strData3}, {type(strData3)}')"
      ]
    }
  ]
}