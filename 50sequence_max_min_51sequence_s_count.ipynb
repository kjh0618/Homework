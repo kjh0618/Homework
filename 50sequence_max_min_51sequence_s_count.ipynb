{
  "nbformat": 4,
  "nbformat_minor": 0,
  "metadata": {
    "colab": {
      "provenance": [],
      "name": "50sequence_max_min_51sequence_s.count.ipynb",
      "authorship_tag": "ABX9TyPGTcueBDnXp8zmBRndlJw9",
      "include_colab_link": true
    },
    "kernelspec": {
      "name": "python3",
      "display_name": "Python 3"
    },
    "language_info": {
      "name": "python"
    }
  },
  "cells": [
    {
      "cell_type": "markdown",
      "metadata": {
        "id": "view-in-github",
        "colab_type": "text"
      },
      "source": [
        "<a href=\"https://colab.research.google.com/github/kjh0618/Homework/blob/main/50sequence_max_min_51sequence_s_count.ipynb\" target=\"_parent\"><img src=\"https://colab.research.google.com/assets/colab-badge.svg\" alt=\"Open In Colab\"/></a>"
      ]
    },
    {
      "cell_type": "code",
      "execution_count": 1,
      "metadata": {
        "colab": {
          "base_uri": "https://localhost:8080/",
          "height": 327
        },
        "id": "jojWFPRNRiG9",
        "outputId": "3b40f35d-b61f-40df-b7c1-d84d19095f12"
      },
      "outputs": [
        {
          "output_type": "stream",
          "name": "stdout",
          "text": [
            "9.96\n",
            "0.93\n",
            "y\n",
            "A\n",
            "sam\n",
            "3sung\n"
          ]
        },
        {
          "output_type": "error",
          "ename": "NameError",
          "evalue": "name 'list1' is not defined",
          "traceback": [
            "\u001b[0;31m---------------------------------------------------------------------------\u001b[0m",
            "\u001b[0;31mNameError\u001b[0m                                 Traceback (most recent call last)",
            "\u001b[0;32m/tmp/ipython-input-1290710627.py\u001b[0m in \u001b[0;36m<cell line: 0>\u001b[0;34m()\u001b[0m\n\u001b[1;32m     12\u001b[0m \u001b[0;34m\u001b[0m\u001b[0m\n\u001b[1;32m     13\u001b[0m \u001b[0mlist\u001b[0m \u001b[0;34m=\u001b[0m \u001b[0;34m[\u001b[0m\u001b[0;36m1\u001b[0m\u001b[0;34m,\u001b[0m \u001b[0;36m2\u001b[0m\u001b[0;34m,\u001b[0m \u001b[0;36m3\u001b[0m\u001b[0;34m,\u001b[0m \u001b[0;34m'a'\u001b[0m\u001b[0;34m,\u001b[0m \u001b[0;34m'b'\u001b[0m\u001b[0;34m,\u001b[0m \u001b[0;34m'c'\u001b[0m\u001b[0;34m]\u001b[0m\u001b[0;34m\u001b[0m\u001b[0;34m\u001b[0m\u001b[0m\n\u001b[0;32m---> 14\u001b[0;31m \u001b[0mprint\u001b[0m\u001b[0;34m(\u001b[0m\u001b[0mmax\u001b[0m\u001b[0;34m(\u001b[0m\u001b[0mlist1\u001b[0m\u001b[0;34m)\u001b[0m\u001b[0;34m)\u001b[0m\u001b[0;34m\u001b[0m\u001b[0;34m\u001b[0m\u001b[0m\n\u001b[0m\u001b[1;32m     15\u001b[0m \u001b[0;34m\u001b[0m\u001b[0m\n\u001b[1;32m     16\u001b[0m \u001b[0mlyrics\u001b[0m \u001b[0;34m=\u001b[0m \u001b[0;34m'A lot of things occur each day! every day!'\u001b[0m\u001b[0;34m\u001b[0m\u001b[0;34m\u001b[0m\u001b[0m\n",
            "\u001b[0;31mNameError\u001b[0m: name 'list1' is not defined"
          ]
        }
      ],
      "source": [
        "listData = [9.96, 1.27, 5.07, 6.45, 8.38, 9.29, 4.93, 7.73, 3.71, 0.93]\n",
        "print(max(listData))\n",
        "print(min(listData))\n",
        "\n",
        "strData = 'AlotofThingsOccurEachday'\n",
        "print(max(strData))\n",
        "print(min(strData))\n",
        "\n",
        "strList = ['jang', 'apple12', '3sung', 'sam']\n",
        "print(max(strList))\n",
        "print(min(strList))\n",
        "\n",
        "list = [1, 2, 3, 'a', 'b', 'c']\n",
        "print(max(list1))\n",
        "\n",
        "lyrics = 'A lot of things occur each day! every day!'\n",
        "print(lyrics.count('o'))\n",
        "\n",
        "lyrics = 'A lot of things occur each day! every day!'\n",
        "print(lyrics.count('day'))\n",
        "\n",
        "lyrics = 'A lot of things occur each day! every day!'\n",
        "print(lyrics.count(''))\n",
        "\n",
        "listData = [1, 6, 1, 4, 8, 4, 12, 1, 0, 9, 9, 7, 4, 3, 6, 7, 3, 2]\n",
        "print(listData.count(1))\n"
      ]
    }
  ]
}