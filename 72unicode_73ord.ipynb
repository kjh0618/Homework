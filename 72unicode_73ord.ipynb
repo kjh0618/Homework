{
  "nbformat": 4,
  "nbformat_minor": 0,
  "metadata": {
    "colab": {
      "provenance": [],
      "authorship_tag": "ABX9TyOk3Ds1aah6Gl7CJB+yDimC",
      "include_colab_link": true
    },
    "kernelspec": {
      "name": "python3",
      "display_name": "Python 3"
    },
    "language_info": {
      "name": "python"
    }
  },
  "cells": [
    {
      "cell_type": "markdown",
      "metadata": {
        "id": "view-in-github",
        "colab_type": "text"
      },
      "source": [
        "<a href=\"https://colab.research.google.com/github/kjh0618/Homework/blob/main/72unicode_73ord.ipynb\" target=\"_parent\"><img src=\"https://colab.research.google.com/assets/colab-badge.svg\" alt=\"Open In Colab\"/></a>"
      ]
    },
    {
      "cell_type": "code",
      "execution_count": 1,
      "metadata": {
        "id": "4PvBi6pNCKFS",
        "outputId": "c605db36-5175-4ca5-af6e-843caf759b83",
        "colab": {
          "base_uri": "https://localhost:8080/"
        }
      },
      "outputs": [
        {
          "name": "stdout",
          "output_type": "stream",
          "text": [
            "문자 1개를 입력하세요[끝내려면 엔터를 치세요]:ㅇ\n",
            "문자 1개를 입력하세요[끝내려면 엔터를 치세요]:ㅇ\n",
            "문자 1개를 입력하세요[끝내려면 엔터를 치세요]:1\n",
            "문자 1개를 입력하세요[끝내려면 엔터를 치세요]:\n"
          ]
        }
      ],
      "source": [
        "while True:\n",
        "  ch = input ('문자 1개를 입력하세요[끝내려면 엔터를 치세요]:')\n",
        "  if len(ch) == 0:\n",
        "    break\n",
        "    ch = ch[0]\n",
        "    code = ord(ch)\n",
        "    print(f'-->문자\"{ch}\"의 코드갑: {hex(code)}')\n"
      ]
    }
  ]
}