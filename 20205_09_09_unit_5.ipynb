{
  "nbformat": 4,
  "nbformat_minor": 0,
  "metadata": {
    "colab": {
      "provenance": [],
      "authorship_tag": "ABX9TyOCJwNTBWGfZKBYXI9cuRpT",
      "include_colab_link": true
    },
    "kernelspec": {
      "name": "python3",
      "display_name": "Python 3"
    },
    "language_info": {
      "name": "python"
    }
  },
  "cells": [
    {
      "cell_type": "markdown",
      "metadata": {
        "id": "view-in-github",
        "colab_type": "text"
      },
      "source": [
        "<a href=\"https://colab.research.google.com/github/kjh0618/Homework/blob/main/20205_09_09_unit_5.ipynb\" target=\"_parent\"><img src=\"https://colab.research.google.com/assets/colab-badge.svg\" alt=\"Open In Colab\"/></a>"
      ]
    },
    {
      "cell_type": "code",
      "execution_count": null,
      "metadata": {
        "id": "AkvnDhuO-1-b"
      },
      "outputs": [],
      "source": [
        "###주석처리 예시\n",
        "###만든 날짜 : 2025.09.09\n",
        "\n",
        "a=1     #a에 1을 할당\n",
        "b=5     #b에 5를 할당\n",
        "print(a+b) #a+b의 값을 출력\n",
        "\n",
        "coment='Result='\n",
        "#삼중 따옴표로 특정 영역 주석 처리 예시\n",
        "\"\"\"a=1\n",
        "b=100\n",
        "print(a+b)\"\"\"\n",
        "a=5\n",
        "b=50\n",
        "print(comment,a+b)\n"
      ]
    }
  ]
}