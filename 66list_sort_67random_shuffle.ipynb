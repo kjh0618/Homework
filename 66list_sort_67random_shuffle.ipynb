{
  "nbformat": 4,
  "nbformat_minor": 0,
  "metadata": {
    "colab": {
      "provenance": [],
      "authorship_tag": "ABX9TyNYwSeFKSVFbC8axhELBS/q",
      "include_colab_link": true
    },
    "kernelspec": {
      "name": "python3",
      "display_name": "Python 3"
    },
    "language_info": {
      "name": "python"
    }
  },
  "cells": [
    {
      "cell_type": "markdown",
      "metadata": {
        "id": "view-in-github",
        "colab_type": "text"
      },
      "source": [
        "<a href=\"https://colab.research.google.com/github/kjh0618/Homework/blob/main/66list_sort_67random_shuffle.ipynb\" target=\"_parent\"><img src=\"https://colab.research.google.com/assets/colab-badge.svg\" alt=\"Open In Colab\"/></a>"
      ]
    },
    {
      "cell_type": "code",
      "execution_count": null,
      "metadata": {
        "colab": {
          "base_uri": "https://localhost:8080/"
        },
        "id": "aelc5eICsf9I",
        "outputId": "f09102ec-bfe4-494a-c501-f7b5040892e5"
      },
      "outputs": [
        {
          "output_type": "stream",
          "name": "stdout",
          "text": [
            "['Aemy', 'Bob', 'Kelly', 'Mary', 'Michale', 'Sams', 'Tom']\n",
            "['Tom', 'Sams', 'Michale', 'Mary', 'Kelly', 'Bob', 'Aemy']\n",
            "[2, 8, 4, 10, 3, 9, 5, 1, 6, 7]\n",
            "numList: [1, 2, 3, 4, 5, 6, 7, 8, 9, 10]\n",
            "copied: [1, 3, 5, 7, 9, 8, 4, 10, 2, 6]\n"
          ]
        }
      ],
      "source": [
        "nameList = ['Mary', 'Sams', 'Aemy', 'Tom', 'Michale', 'Bob', 'Kelly']\n",
        "nameList.sort()\n",
        "print(nameList)\n",
        "\n",
        "nameList = ['Mary', 'Sams', 'Aemy', 'Tom', 'Michale', 'Bob', 'Kelly']\n",
        "nameList.sort(reverse=True)\n",
        "print(nameList)\n",
        "\n",
        "import random\n",
        "numList = list(range(1,11))\n",
        "random.shuffle(numList)\n",
        "print(numList)\n",
        "\n",
        "numList = list(range(1,11))\n",
        "copied = numList.copy()\n",
        "random.shuffle(copied)\n",
        "print(f'numList: {numList}')\n",
        "print(f'copied: {copied}')"
      ]
    }
  ]
}