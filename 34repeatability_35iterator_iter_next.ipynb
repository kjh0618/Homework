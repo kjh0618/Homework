{
  "nbformat": 4,
  "nbformat_minor": 0,
  "metadata": {
    "colab": {
      "provenance": [],
      "authorship_tag": "ABX9TyOCCDYnf8y4qeh6QXXaZLc3",
      "include_colab_link": true
    },
    "kernelspec": {
      "name": "python3",
      "display_name": "Python 3"
    },
    "language_info": {
      "name": "python"
    }
  },
  "cells": [
    {
      "cell_type": "markdown",
      "metadata": {
        "id": "view-in-github",
        "colab_type": "text"
      },
      "source": [
        "<a href=\"https://colab.research.google.com/github/kjh0618/Homework/blob/main/34repeatability_35iterator_iter_next.ipynb\" target=\"_parent\"><img src=\"https://colab.research.google.com/assets/colab-badge.svg\" alt=\"Open In Colab\"/></a>"
      ]
    },
    {
      "cell_type": "code",
      "execution_count": null,
      "metadata": {
        "id": "4JRxUt7mOrwu"
      },
      "outputs": [],
      "source": [
        "iterableData1 = [1,2,3,4,5]\n",
        "iterableData2 = ('a'.'b','c')\n",
        "iterableData3 = 'I love python!'\n",
        "iterableData6 = range(10)\n",
        "iterableData4 = {97:'a', 98:'b'}\n",
        "iterableData5 = {'사과','배','오렌지'}\n",
        "\n",
        "listData = [1,2,3,4]\n",
        "iterator1 = listData.__iter__()\n",
        "print(type(iterator1))\n",
        "\n",
        "listData = [1,2,3,4]\n",
        "iterator2 = iter(listData)\n",
        "print(type(iterator2))\n",
        "\n",
        "print(next(iterator2))\n",
        "print(next(iterator2))\n",
        "print(next(iterator2))\n",
        "print(next(iterator2))\n",
        "print(next(iterator2))\n"
      ]
    }
  ]
}