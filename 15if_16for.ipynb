{
  "nbformat": 4,
  "nbformat_minor": 0,
  "metadata": {
    "colab": {
      "provenance": [],
      "authorship_tag": "ABX9TyNGKe4xRLVtJEPManGQ7bM2",
      "include_colab_link": true
    },
    "kernelspec": {
      "name": "python3",
      "display_name": "Python 3"
    },
    "language_info": {
      "name": "python"
    }
  },
  "cells": [
    {
      "cell_type": "markdown",
      "metadata": {
        "id": "view-in-github",
        "colab_type": "text"
      },
      "source": [
        "<a href=\"https://colab.research.google.com/github/kjh0618/Homework/blob/main/15if_16for.ipynb\" target=\"_parent\"><img src=\"https://colab.research.google.com/assets/colab-badge.svg\" alt=\"Open In Colab\"/></a>"
      ]
    },
    {
      "cell_type": "code",
      "execution_count": null,
      "metadata": {
        "colab": {
          "base_uri": "https://localhost:8080/"
        },
        "id": "TX6jJ3eJQJ9y",
        "outputId": "35eea790-7e46-45c8-b9d7-120ba3d057fa"
      },
      "outputs": [
        {
          "output_type": "stream",
          "name": "stdout",
          "text": [
            "x가 y보다 작습니다.\n",
            "x가 y보다 작습니다.\n",
            "a-b-c-d-e-f-1-2-3-4-5-('a', 97)\n",
            "('b', 98)\n",
            "('c', 99)\n"
          ]
        }
      ],
      "source": [
        "x=1\n",
        "y=2\n",
        "if x < y:\n",
        "  print('x가 y보다 작습니다.')\n",
        "else:\n",
        "  print('x가 y보다 작지 않습니다.')\n",
        "\n",
        "x=1\n",
        "y=2\n",
        "if x < y:\n",
        "  print('x가 y보다 작습니다.')\n",
        "elif x > y:\n",
        "  print('x가 y보다 큽니다.')\n",
        "else:\n",
        "  print('x가 y가 같습니다..')\n",
        "\n",
        "strData='abcdef'\n",
        "for c in strData:\n",
        "  print(c, end='-')\n",
        "\n",
        "listData=[1,2,3,4,5]\n",
        "for idx in listData:\n",
        "  print(idx,end='-')\n",
        "\n",
        "ascii_codes={'a':97,'b':98,'c':99}\n",
        "for code in ascii_codes.items():\n",
        "  print(code)\n",
        "\n",
        "for i in range(10):\n",
        "  print(i,end='#')\n",
        "\n",
        "for i in [1,2,3,4,5]:\n",
        "  print(i)\n",
        "  if i < 2:\n",
        "    continue\n",
        "  else:\n",
        "    break\n",
        "\n",
        "for i in [1,2,3,4,5]:\n",
        "  print(i)\n",
        "  if i ==2:\n",
        "    break"
      ]
    }
  ]
}