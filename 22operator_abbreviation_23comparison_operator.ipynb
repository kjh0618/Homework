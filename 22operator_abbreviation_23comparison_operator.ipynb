{
  "nbformat": 4,
  "nbformat_minor": 0,
  "metadata": {
    "colab": {
      "provenance": [],
      "authorship_tag": "ABX9TyMNJ/Wuj7+ZkUcVzpi1wzHn",
      "include_colab_link": true
    },
    "kernelspec": {
      "name": "python3",
      "display_name": "Python 3"
    },
    "language_info": {
      "name": "python"
    }
  },
  "cells": [
    {
      "cell_type": "markdown",
      "metadata": {
        "id": "view-in-github",
        "colab_type": "text"
      },
      "source": [
        "<a href=\"https://colab.research.google.com/github/kjh0618/Homework/blob/main/22operator_abbreviation_23comparison_operator.ipynb\" target=\"_parent\"><img src=\"https://colab.research.google.com/assets/colab-badge.svg\" alt=\"Open In Colab\"/></a>"
      ]
    },
    {
      "cell_type": "code",
      "execution_count": null,
      "metadata": {
        "id": "6uKLhxE7IjxP"
      },
      "outputs": [],
      "source": [
        "x = 1; y = 2\n",
        "strData1 = 'Hello'; strData2 = 'python'\n",
        "print(x == y)\n",
        "print(x != y)\n",
        "print(strData1 == strData2)\n",
        "print(strData2 == 'python')\n",
        "print(strData1 < strData2)\n"
      ]
    }
  ]
}