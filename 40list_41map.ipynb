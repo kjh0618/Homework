{
  "nbformat": 4,
  "nbformat_minor": 0,
  "metadata": {
    "colab": {
      "provenance": [],
      "authorship_tag": "ABX9TyMI1Ianm34S5yJVMpCyx6mv",
      "include_colab_link": true
    },
    "kernelspec": {
      "name": "python3",
      "display_name": "Python 3"
    },
    "language_info": {
      "name": "python"
    }
  },
  "cells": [
    {
      "cell_type": "markdown",
      "metadata": {
        "id": "view-in-github",
        "colab_type": "text"
      },
      "source": [
        "<a href=\"https://colab.research.google.com/github/kjh0618/Homework/blob/main/40list_41map.ipynb\" target=\"_parent\"><img src=\"https://colab.research.google.com/assets/colab-badge.svg\" alt=\"Open In Colab\"/></a>"
      ]
    },
    {
      "cell_type": "code",
      "execution_count": null,
      "metadata": {
        "colab": {
          "base_uri": "https://localhost:8080/"
        },
        "id": "GIFAETQp8qUT",
        "outputId": "c43b7a4a-a94b-4f31-b048-4c33be295d2a"
      },
      "outputs": [
        {
          "output_type": "stream",
          "name": "stdout",
          "text": [
            "[1, 2, 3, 4, 5]\n",
            "['I', ' ', 'l', 'o', 'v', 'e', ' ', 'p', 'y', 't', 'h', 'o', 'n', '!']\n",
            "[0, 1, 2, 3, 4]\n",
            "[0, 1, 4, 9]\n",
            "[0, 1, 4, 9]\n",
            "[11, 13, 17, 23, 31]\n"
          ]
        }
      ],
      "source": [
        "tupleData = (1, 2, 3, 4, 5)\n",
        "print ((list(tupleData)))\n",
        "\n",
        "strData = 'I love python!'\n",
        "print(list(strData))\n",
        "\n",
        "def MyRange(n):\n",
        "  current = 0\n",
        "  while current < n:\n",
        "    yield current\n",
        "    current += 1\n",
        "\n",
        "intList = MyRange(5)\n",
        "print(list(intList))\n",
        "\n",
        "def myfunc(x):\n",
        "  return x**2\n",
        "\n",
        "results = map(myfunc, [0, 1, 2, 3])\n",
        "print(list(results))\n",
        "\n",
        "results = map(lambda x: x**2, range(4))\n",
        "print(list(results))\n",
        "\n",
        "X = [1, 2, 3, 4, 5]\n",
        "Y = [10, 9, 8, 7, 6]\n",
        "ret = map(lambda x,y: x**2+y, X, Y)\n",
        "print(list(ret))"
      ]
    }
  ]
}