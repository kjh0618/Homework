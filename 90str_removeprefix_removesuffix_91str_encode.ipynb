{
  "nbformat": 4,
  "nbformat_minor": 0,
  "metadata": {
    "colab": {
      "provenance": [],
      "authorship_tag": "ABX9TyMxg5xvoLgK3E6rHiocWNYg",
      "include_colab_link": true
    },
    "kernelspec": {
      "name": "python3",
      "display_name": "Python 3"
    },
    "language_info": {
      "name": "python"
    }
  },
  "cells": [
    {
      "cell_type": "markdown",
      "metadata": {
        "id": "view-in-github",
        "colab_type": "text"
      },
      "source": [
        "<a href=\"https://colab.research.google.com/github/kjh0618/Homework/blob/main/90str_removeprefix_removesuffix_91str_encode.ipynb\" target=\"_parent\"><img src=\"https://colab.research.google.com/assets/colab-badge.svg\" alt=\"Open In Colab\"/></a>"
      ]
    },
    {
      "cell_type": "code",
      "execution_count": null,
      "metadata": {
        "colab": {
          "base_uri": "https://localhost:8080/"
        },
        "id": "3vDSpteFRuKT",
        "outputId": "4e351cdd-3083-4fea-b0b0-09ef75907668"
      },
      "outputs": [
        {
          "output_type": "stream",
          "name": "stdout",
          "text": [
            "Seoul is the captial of Korea.\n",
            "['1', '3', '5', 'a', 'a', 'i', 'k', 'k', 'k', 'k', 'n', 'n', 'n', 'n', 'r', 't', 'v', 'z']\n",
            "b'python'\n",
            "strData[0] = p\n",
            "strData[1] = y\n",
            "strData[2] = t\n",
            "strData[3] = h\n",
            "strData[4] = o\n",
            "strData[5] = n\n",
            "byteData[5] = 112, 0x70\n",
            "byteData[5] = 121, 0x79\n",
            "byteData[5] = 116, 0x74\n",
            "byteData[5] = 104, 0x68\n",
            "byteData[5] = 111, 0x6f\n",
            "byteData[5] = 110, 0x6e\n",
            "b'\\xed\\x8c\\x8c\\xec\\x9d\\xb4\\xec\\x8d\\xac'\n",
            "b'\\xc6\\xc4\\xc0\\xcc\\xbd\\xe3'\n"
          ]
        }
      ],
      "source": [
        "strData = '[info]Seoul is the captial of Korea.'\n",
        "cityinfo = strData.removeprefix('[info]')\n",
        "print(cityinfo)\n",
        "\n",
        "strData = '이것으로 문장을 마무리합니다.<EOD>'\n",
        "cityinfo = strData.removesuffix('<EOD>')\n",
        "print(ret)\n",
        "\n",
        "strData = 'python'\n",
        "byteData = strData.encode()\n",
        "print(byteData)\n",
        "\n",
        "for idx, c in enumerate(strData):\n",
        "  print(f'strData[{idx}] = {c}')\n",
        "\n",
        "for icx, c in enumerate(byteData):\n",
        "  print(f'byteData[{idx}] = {c}, {hex(c)}')\n",
        "\n",
        "strData = '파이썬'\n",
        "byteData = strData.encode()\n",
        "print(byteData)\n",
        "\n",
        "strData = '파이썬'\n",
        "byteData = strData.encode('CP949')\n",
        "print(byteData)"
      ]
    }
  ]
}