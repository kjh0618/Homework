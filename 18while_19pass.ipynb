{
  "nbformat": 4,
  "nbformat_minor": 0,
  "metadata": {
    "colab": {
      "provenance": [],
      "authorship_tag": "ABX9TyNM3WVEDe0NkZOmRce9OpYb",
      "include_colab_link": true
    },
    "kernelspec": {
      "name": "python3",
      "display_name": "Python 3"
    },
    "language_info": {
      "name": "python"
    }
  },
  "cells": [
    {
      "cell_type": "markdown",
      "metadata": {
        "id": "view-in-github",
        "colab_type": "text"
      },
      "source": [
        "<a href=\"https://colab.research.google.com/github/kjh0618/Homework/blob/main/18while_19pass.ipynb\" target=\"_parent\"><img src=\"https://colab.research.google.com/assets/colab-badge.svg\" alt=\"Open In Colab\"/></a>"
      ]
    },
    {
      "cell_type": "code",
      "execution_count": null,
      "metadata": {
        "id": "znPJ-OPV467s"
      },
      "outputs": [],
      "source": [
        "x=0\n",
        "while x < 10:\n",
        "  x = x + 1\n",
        "  if x < 3:\n",
        "    continue\n",
        "\n",
        "  print(x)\n",
        "  if x > 4:\n",
        "    break\n",
        "n = 1\n",
        "total = 0\n",
        "while True:\n",
        "  total = total + n\n",
        "  if total > 10000:\n",
        "    print('1+2+...+n 값이 10만 보다 커지게 되는 n:',n)\n",
        "    print('이 때 총합은',total)\n",
        "    break\n",
        "  n = n + 1\n",
        "\n",
        "for sport in ['축구','야구','배구','농구']:\n",
        "  if sport == '축구':\n",
        "    pass\n",
        "\n",
        "  if sport == '야구':\n",
        "    pass\n",
        "\n",
        "def getImageLink(url):\n",
        "  pass"
      ]
    }
  ]
}