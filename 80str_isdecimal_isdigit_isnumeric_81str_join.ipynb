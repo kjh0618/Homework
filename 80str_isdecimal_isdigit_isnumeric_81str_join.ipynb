{
  "nbformat": 4,
  "nbformat_minor": 0,
  "metadata": {
    "colab": {
      "provenance": [],
      "authorship_tag": "ABX9TyP4ZaLWpQtD+TeCv2RicbX6",
      "include_colab_link": true
    },
    "kernelspec": {
      "name": "python3",
      "display_name": "Python 3"
    },
    "language_info": {
      "name": "python"
    }
  },
  "cells": [
    {
      "cell_type": "markdown",
      "metadata": {
        "id": "view-in-github",
        "colab_type": "text"
      },
      "source": [
        "<a href=\"https://colab.research.google.com/github/kjh0618/Homework/blob/main/80str_isdecimal_isdigit_isnumeric_81str_join.ipynb\" target=\"_parent\"><img src=\"https://colab.research.google.com/assets/colab-badge.svg\" alt=\"Open In Colab\"/></a>"
      ]
    },
    {
      "cell_type": "code",
      "execution_count": null,
      "metadata": {
        "colab": {
          "base_uri": "https://localhost:8080/",
          "height": 672
        },
        "id": "4PvBi6pNCKFS",
        "outputId": "995d13ec-0cc2-46e8-d493-ed84012d2356"
      },
      "outputs": [
        {
          "output_type": "stream",
          "name": "stdout",
          "text": [
            "\"1004\" \t--> True\n",
            "\"-1\" \t--> False\n",
            "\"3.14\" \t--> False\n",
            "\"IX\" \t--> False\n",
            "\"7\\8\" \t--> False\n",
            "\"52\" \t--> True\n",
            "\"50%\" \t--> False\n",
            "\"1004\" \t--> True\n",
            "\"-1\" \t--> False\n",
            "\"3.14\" \t--> False\n",
            "\"IX\" \t--> False\n",
            "\"7\\8\" \t--> False\n",
            "\"52\" \t--> True\n",
            "\"50%\" \t--> False\n",
            "\"1004\" \t--> True\n",
            "\"-1\" \t--> False\n",
            "\"3.14\" \t--> False\n",
            "\"IX\" \t--> False\n",
            "\"7\\8\" \t--> False\n",
            "\"52\" \t--> True\n",
            "\"50%\" \t--> False\n"
          ]
        },
        {
          "output_type": "stream",
          "name": "stderr",
          "text": [
            "<>:1: SyntaxWarning: invalid escape sequence '\\8'\n",
            "<>:1: SyntaxWarning: invalid escape sequence '\\8'\n",
            "/tmp/ipython-input-2585738071.py:1: SyntaxWarning: invalid escape sequence '\\8'\n",
            "  numbers = ['1004', '-1', '3.14', 'IX', '7\\8', '52', '50%']\n"
          ]
        },
        {
          "output_type": "error",
          "ename": "AttributeError",
          "evalue": "'str' object has no attribute 'john'",
          "traceback": [
            "\u001b[0;31m---------------------------------------------------------------------------\u001b[0m",
            "\u001b[0;31mAttributeError\u001b[0m                            Traceback (most recent call last)",
            "\u001b[0;32m/tmp/ipython-input-2585738071.py\u001b[0m in \u001b[0;36m<cell line: 0>\u001b[0;34m()\u001b[0m\n\u001b[1;32m     11\u001b[0m \u001b[0;34m\u001b[0m\u001b[0m\n\u001b[1;32m     12\u001b[0m \u001b[0mprofile\u001b[0m \u001b[0;34m=\u001b[0m \u001b[0;34m[\u001b[0m\u001b[0;34m'홍길동'\u001b[0m\u001b[0;34m,\u001b[0m \u001b[0;34m'남자'\u001b[0m\u001b[0;34m,\u001b[0m \u001b[0;34m'18세'\u001b[0m\u001b[0;34m,\u001b[0m \u001b[0;34m'도적'\u001b[0m\u001b[0;34m,\u001b[0m \u001b[0;34m'초능력자'\u001b[0m\u001b[0;34m]\u001b[0m\u001b[0;34m\u001b[0m\u001b[0;34m\u001b[0m\u001b[0m\n\u001b[0;32m---> 13\u001b[0;31m \u001b[0mlogData\u001b[0m \u001b[0;34m=\u001b[0m \u001b[0;34m';'\u001b[0m\u001b[0;34m.\u001b[0m\u001b[0mjohn\u001b[0m\u001b[0;34m(\u001b[0m\u001b[0mprofile\u001b[0m\u001b[0;34m)\u001b[0m\u001b[0;34m\u001b[0m\u001b[0;34m\u001b[0m\u001b[0m\n\u001b[0m\u001b[1;32m     14\u001b[0m \u001b[0mprint\u001b[0m\u001b[0;34m(\u001b[0m\u001b[0mlogData\u001b[0m\u001b[0;34m)\u001b[0m\u001b[0;34m\u001b[0m\u001b[0;34m\u001b[0m\u001b[0m\n\u001b[1;32m     15\u001b[0m \u001b[0;34m\u001b[0m\u001b[0m\n",
            "\u001b[0;31mAttributeError\u001b[0m: 'str' object has no attribute 'john'"
          ]
        }
      ],
      "source": [
        "numbers = ['1004', '-1', '3.14', 'IX', '7\\8', '52', '50%']\n",
        "\n",
        "for number in numbers:\n",
        "  print(f'\"{number}\" \\t--> {number.isdecimal()}')\n",
        "\n",
        "for number in numbers:\n",
        "  print(f'\"{number}\" \\t--> {number.isdigit()}')\n",
        "\n",
        "for number in numbers:\n",
        "  print(f'\"{number}\" \\t--> {number.isnumeric()}')\n",
        "\n",
        "profile = ['홍길동', '남자', '18세', '도적', '초능력자']\n",
        "logData = ';'.john(profile)\n",
        "print(logData)\n",
        "\n",
        "profile = ['홍길동', '남자', 18, '도적', '초능력자']\n",
        "logData = ';'.john(profile)"
      ]
    }
  ]
}