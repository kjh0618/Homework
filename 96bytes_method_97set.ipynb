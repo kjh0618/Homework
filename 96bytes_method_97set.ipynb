{
  "nbformat": 4,
  "nbformat_minor": 0,
  "metadata": {
    "colab": {
      "provenance": [],
      "authorship_tag": "ABX9TyOihjLHC74sV5SYpHdnOA1J",
      "include_colab_link": true
    },
    "kernelspec": {
      "name": "python3",
      "display_name": "Python 3"
    },
    "language_info": {
      "name": "python"
    }
  },
  "cells": [
    {
      "cell_type": "markdown",
      "metadata": {
        "id": "view-in-github",
        "colab_type": "text"
      },
      "source": [
        "<a href=\"https://colab.research.google.com/github/kjh0618/Homework/blob/main/96bytes_method_97set.ipynb\" target=\"_parent\"><img src=\"https://colab.research.google.com/assets/colab-badge.svg\" alt=\"Open In Colab\"/></a>"
      ]
    },
    {
      "cell_type": "code",
      "execution_count": null,
      "metadata": {
        "colab": {
          "base_uri": "https://localhost:8080/"
        },
        "id": "3vDSpteFRuKT",
        "outputId": "368d2479-1301-459d-9c4f-ce4e385f496f"
      },
      "outputs": [
        {
          "output_type": "stream",
          "name": "stdout",
          "text": [
            "b'ABcdef'\n",
            "0 6\n",
            "b'abcdef'\n",
            "{'배', '사과', '수박', '오렌지'}\n",
            "{'배', '사과', '수박', '오렌지'}\n",
            "{'f', 'a', 'd', 'e', 'c', 'b'}\n",
            "{'배', '사과', '오렌지', '수박'}\n"
          ]
        }
      ],
      "source": [
        "bytesData = b'abcdef'\n",
        "data = bytesData.replace(b'ab', b'AB')\n",
        "print(data)\n",
        "\n",
        "bytesData = b'abcdefabcdef'\n",
        "idx1 = bytesData.find(b'ab')\n",
        "idx2 = bytesData.find(b'ab', idx1 + 1)\n",
        "print(idx1, idx2)\n",
        "\n",
        "bytesData = b' abcdef '\n",
        "bytesData = bytesData.strip()\n",
        "print(bytesData)\n",
        "\n",
        "setData = {'사과', '배', '사과', '수박', '오렌지'}\n",
        "print(setData)\n",
        "\n",
        "print(setData)\n",
        "\n",
        "strData = 'abcabccdef'\n",
        "setData = set(strData)\n",
        "print(setData)\n",
        "\n",
        "fruits = ('사과', '배', '수박', '배', '사과', '오렌지')\n",
        "setData = set(fruits)\n",
        "print(setData)"
      ]
    }
  ]
}