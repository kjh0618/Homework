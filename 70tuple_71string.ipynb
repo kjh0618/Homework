{
  "nbformat": 4,
  "nbformat_minor": 0,
  "metadata": {
    "colab": {
      "provenance": [],
      "authorship_tag": "ABX9TyOWMa+2Q0mAf6iD+fhk6f/w",
      "include_colab_link": true
    },
    "kernelspec": {
      "name": "python3",
      "display_name": "Python 3"
    },
    "language_info": {
      "name": "python"
    }
  },
  "cells": [
    {
      "cell_type": "markdown",
      "metadata": {
        "id": "view-in-github",
        "colab_type": "text"
      },
      "source": [
        "<a href=\"https://colab.research.google.com/github/kjh0618/Homework/blob/main/70tuple_71string.ipynb\" target=\"_parent\"><img src=\"https://colab.research.google.com/assets/colab-badge.svg\" alt=\"Open In Colab\"/></a>"
      ]
    },
    {
      "cell_type": "code",
      "execution_count": null,
      "metadata": {
        "colab": {
          "base_uri": "https://localhost:8080/",
          "height": 276
        },
        "id": "xRNgHqfV6BOk",
        "outputId": "ee169f04-a1e3-48b0-9283-d25cae969c2d"
      },
      "outputs": [
        {
          "output_type": "stream",
          "name": "stdout",
          "text": [
            "(1, 'two', '셋')\n",
            "(1, 'two', '셋')\n",
            "x=1, y=two, z=셋\n"
          ]
        },
        {
          "output_type": "error",
          "ename": "TypeError",
          "evalue": "'tuple' object does not support item assignment",
          "traceback": [
            "\u001b[0;31m---------------------------------------------------------------------------\u001b[0m",
            "\u001b[0;31mTypeError\u001b[0m                                 Traceback (most recent call last)",
            "\u001b[0;32m/tmp/ipython-input-2353153545.py\u001b[0m in \u001b[0;36m<cell line: 0>\u001b[0;34m()\u001b[0m\n\u001b[1;32m      9\u001b[0m \u001b[0;34m\u001b[0m\u001b[0m\n\u001b[1;32m     10\u001b[0m \u001b[0mtupleData\u001b[0m \u001b[0;34m=\u001b[0m \u001b[0;34m(\u001b[0m\u001b[0;36m0\u001b[0m\u001b[0;34m,\u001b[0m \u001b[0;36m1\u001b[0m\u001b[0;34m,\u001b[0m \u001b[0;36m2\u001b[0m\u001b[0;34m,\u001b[0m \u001b[0;36m3\u001b[0m\u001b[0;34m,\u001b[0m \u001b[0;36m4\u001b[0m\u001b[0;34m)\u001b[0m\u001b[0;34m\u001b[0m\u001b[0;34m\u001b[0m\u001b[0m\n\u001b[0;32m---> 11\u001b[0;31m \u001b[0mtupleData\u001b[0m\u001b[0;34m[\u001b[0m\u001b[0;36m3\u001b[0m\u001b[0;34m]\u001b[0m \u001b[0;34m=\u001b[0m \u001b[0;34m'Three'\u001b[0m\u001b[0;34m\u001b[0m\u001b[0;34m\u001b[0m\u001b[0m\n\u001b[0m\u001b[1;32m     12\u001b[0m \u001b[0;34m\u001b[0m\u001b[0m\n\u001b[1;32m     13\u001b[0m \u001b[0mstrData1\u001b[0m \u001b[0;34m=\u001b[0m \u001b[0;34m'안녕하세요'\u001b[0m\u001b[0;34m\u001b[0m\u001b[0;34m\u001b[0m\u001b[0m\n",
            "\u001b[0;31mTypeError\u001b[0m: 'tuple' object does not support item assignment"
          ]
        }
      ],
      "source": [
        "tupleData = 1, 'two', '셋'\n",
        "print(tupleData)\n",
        "\n",
        "tupleData = (1, 'two', '셋')\n",
        "print(tupleData)\n",
        "\n",
        "x, y, z = tupleData\n",
        "print(f'x={x}, y={y}, z={z}')\n",
        "\n",
        "tupleData = (0, 1, 2, 3, 4)\n",
        "tupleData[3] = 'Three'\n",
        "\n",
        "strData1 = '안녕하세요'\n",
        "strData2 = '작은따옴표는 \"큰따옴표\"를 포함하는 문자열이 가능합니다.'\n",
        "print(strData1)\n",
        "print(strData2)\n",
        "\n",
        "strData3 = \"안녕하세요\"\n",
        "strData3 = \"큰따옴표는 '작은따옴표'를 포함하는 문자열이 가능합니다.\"\n",
        "print(strData3)\n",
        "print(strData4)\n",
        "\n",
        "strData5 = '''3중 작은따옴표는\n",
        "        여러 줄에 걸친 문자열이 가능하니다.'''\n",
        "print(strData5)\n",
        "\n",
        "strData6 = \"\"\"3중 큰따옴표 역시\n",
        "여러 줄에 걸친 문자열이 가능합니다.\"\"\"\n",
        "print(strData6)\n"
      ]
    }
  ]
}