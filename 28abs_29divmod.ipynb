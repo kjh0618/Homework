{
  "nbformat": 4,
  "nbformat_minor": 0,
  "metadata": {
    "colab": {
      "provenance": [],
      "name": "28abs_29divmod.ipynb",
      "authorship_tag": "ABX9TyM356VaagJ33zkq6ybvt4i/",
      "include_colab_link": true
    },
    "kernelspec": {
      "name": "python3",
      "display_name": "Python 3"
    },
    "language_info": {
      "name": "python"
    }
  },
  "cells": [
    {
      "cell_type": "markdown",
      "metadata": {
        "id": "view-in-github",
        "colab_type": "text"
      },
      "source": [
        "<a href=\"https://colab.research.google.com/github/kjh0618/Homework/blob/main/28abs_29divmod.ipynb\" target=\"_parent\"><img src=\"https://colab.research.google.com/assets/colab-badge.svg\" alt=\"Open In Colab\"/></a>"
      ]
    },
    {
      "cell_type": "code",
      "execution_count": null,
      "metadata": {
        "colab": {
          "base_uri": "https://localhost:8080/"
        },
        "id": "jD64zl9KPp1_",
        "outputId": "019644df-56ee-4146-b9e8-85d63d12918c"
      },
      "outputs": [
        {
          "output_type": "stream",
          "name": "stdout",
          "text": [
            "8\n",
            "3.14\n",
            "5.0\n",
            "11113을(를) 23(으)로 나누면 몫이 483, 나머지가 4입니다.\n",
            "11113을(를) 23(으)로 나누면 몫이 483, 나머지가 4입니다.\n"
          ]
        }
      ],
      "source": [
        "intData = -8\n",
        "floatData = 3.14\n",
        "complexData = 3 + 4j\n",
        "print (abs(intData))\n",
        "print(abs(floatData))\n",
        "print(abs((complexData)))\n",
        "\n",
        "x = 11113\n",
        "y = 23\n",
        "ret1 = x//y\n",
        "ret2 = x % y\n",
        "print(f'{x}을(를) {y}(으)로 나누면 몫이 {ret1}, 나머지가 {ret2}입니다.')\n",
        "\n",
        "x = 11113\n",
        "y = 23\n",
        "ret1, ret2 = divmod(x, y)\n",
        "print(f'{x}을(를) {y}(으)로 나누면 몫이 {ret1}, 나머지가 {ret2}입니다.')"
      ]
    }
  ]
}