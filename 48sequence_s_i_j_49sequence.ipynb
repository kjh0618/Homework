{
  "nbformat": 4,
  "nbformat_minor": 0,
  "metadata": {
    "colab": {
      "provenance": [],
      "authorship_tag": "ABX9TyNfxN2xw8USGTBKEiILrmI8",
      "include_colab_link": true
    },
    "kernelspec": {
      "name": "python3",
      "display_name": "Python 3"
    },
    "language_info": {
      "name": "python"
    }
  },
  "cells": [
    {
      "cell_type": "markdown",
      "metadata": {
        "id": "view-in-github",
        "colab_type": "text"
      },
      "source": [
        "<a href=\"https://colab.research.google.com/github/kjh0618/Homework/blob/main/48sequence_s_i_j_49sequence.ipynb\" target=\"_parent\"><img src=\"https://colab.research.google.com/assets/colab-badge.svg\" alt=\"Open In Colab\"/></a>"
      ]
    },
    {
      "cell_type": "code",
      "execution_count": null,
      "metadata": {
        "colab": {
          "base_uri": "https://localhost:8080/",
          "height": 418
        },
        "id": "jojWFPRNRiG9",
        "outputId": "c3df24ff-2060-4fd8-b9e1-ab7fb91f4dae"
      },
      "outputs": [
        {
          "output_type": "stream",
          "name": "stdout",
          "text": [
            "s mo\n",
            "Time \n",
            "Don't waste your time!\n",
            "Time is money! Don't waste your time\n",
            "time!\n",
            "Time is money! Don't waste your time!\n",
            "[0, 2, 4, 6, 8]\n",
            "[1, 3, 5, 7, 9]\n",
            "https://blog.naver.com/samsjang\n",
            "[0, 1, 2, 3, 4, 5]\n",
            "[3, 4, 5, 0, 1, 2]\n"
          ]
        },
        {
          "output_type": "error",
          "ename": "TypeError",
          "evalue": "can only concatenate list (not \"str\") to list",
          "traceback": [
            "\u001b[0;31m---------------------------------------------------------------------------\u001b[0m",
            "\u001b[0;31mTypeError\u001b[0m                                 Traceback (most recent call last)",
            "\u001b[0;32m/tmp/ipython-input-568370471.py\u001b[0m in \u001b[0;36m<cell line: 0>\u001b[0;34m()\u001b[0m\n\u001b[1;32m     29\u001b[0m \u001b[0mlistData\u001b[0m \u001b[0;34m=\u001b[0m \u001b[0;34m[\u001b[0m\u001b[0;36m0\u001b[0m \u001b[0;34m,\u001b[0m\u001b[0;36m1\u001b[0m\u001b[0;34m,\u001b[0m \u001b[0;36m2\u001b[0m\u001b[0;34m]\u001b[0m\u001b[0;34m\u001b[0m\u001b[0;34m\u001b[0m\u001b[0m\n\u001b[1;32m     30\u001b[0m \u001b[0mstrData\u001b[0m \u001b[0;34m=\u001b[0m \u001b[0;34m'시퀀스 자료의 연결'\u001b[0m\u001b[0;34m\u001b[0m\u001b[0;34m\u001b[0m\u001b[0m\n\u001b[0;32m---> 31\u001b[0;31m \u001b[0mprint\u001b[0m\u001b[0;34m(\u001b[0m\u001b[0mlistData\u001b[0m \u001b[0;34m+\u001b[0m \u001b[0mstrData\u001b[0m\u001b[0;34m)\u001b[0m\u001b[0;34m\u001b[0m\u001b[0;34m\u001b[0m\u001b[0m\n\u001b[0m\u001b[1;32m     32\u001b[0m \u001b[0;34m\u001b[0m\u001b[0m\n\u001b[1;32m     33\u001b[0m \u001b[0mlyrics1\u001b[0m \u001b[0;34m=\u001b[0m \u001b[0;34m'빗소리만 하얗게 나를'\u001b[0m\u001b[0;34m\u001b[0m\u001b[0;34m\u001b[0m\u001b[0m\n",
            "\u001b[0;31mTypeError\u001b[0m: can only concatenate list (not \"str\") to list"
          ]
        }
      ],
      "source": [
        "wise_saying = \"Time is money! Don't waste your time!\"\n",
        "print(wise_saying[6:10])\n",
        "\n",
        "print(wise_saying[:5])\n",
        "\n",
        "print(wise_saying[15:])\n",
        "\n",
        "print(wise_saying[:-1])\n",
        "\n",
        "print(wise_saying[-5:])\n",
        "\n",
        "print(wise_saying[:])\n",
        "\n",
        "intList = [0, 1, 2, 3, 4, 5, 6, 7, 8, 9]\n",
        "print(intList[::2])\n",
        "\n",
        "print(intList[1::2])\n",
        "\n",
        "url1 = 'https://blog.naver.com/'\n",
        "url2 = 'samsjang'\n",
        "print(url1 + url2)\n",
        "\n",
        "list1 = [0, 1, 2]\n",
        "list2 = [3, 4, 5]\n",
        "print(list1 + list2)\n",
        "\n",
        "print(list2 + list1)\n",
        "\n",
        "listData = [0 ,1, 2]\n",
        "strData = '시퀀스 자료의 연결'\n",
        "print(listData + strData)\n",
        "\n",
        "lyrics1 = '빗소리만 하얗게 나를'\n",
        "lyrics2 = '감싸네~'\n",
        "print(lyrics1 + lyrics2*3)\n",
        "\n",
        "listData = [1, 2, 3]\n",
        "print(listData*5)"
      ]
    }
  ]
}