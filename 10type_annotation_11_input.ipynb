{
  "nbformat": 4,
  "nbformat_minor": 0,
  "metadata": {
    "colab": {
      "provenance": [],
      "name": "10type annotation_11 input.ipynb",
      "authorship_tag": "ABX9TyNPHpi9xc2baclB2ks5OxO5",
      "include_colab_link": true
    },
    "kernelspec": {
      "name": "python3",
      "display_name": "Python 3"
    },
    "language_info": {
      "name": "python"
    }
  },
  "cells": [
    {
      "cell_type": "markdown",
      "metadata": {
        "id": "view-in-github",
        "colab_type": "text"
      },
      "source": [
        "<a href=\"https://colab.research.google.com/github/kjh0618/Homework/blob/main/10type_annotation_11_input.ipynb\" target=\"_parent\"><img src=\"https://colab.research.google.com/assets/colab-badge.svg\" alt=\"Open In Colab\"/></a>"
      ]
    },
    {
      "cell_type": "code",
      "execution_count": null,
      "metadata": {
        "colab": {
          "base_uri": "https://localhost:8080/"
        },
        "id": "NQ8Xazf9Pfz5",
        "outputId": "120f9778-beb2-409c-d814-8c21e8af4564"
      },
      "outputs": [
        {
          "output_type": "stream",
          "name": "stdout",
          "text": [
            "{'name': <class 'str'>, 'age': <class 'int'>, 'weight': <class 'float'>, 'is_badman': <class 'bool'>, 'booklist': list[str], 'island': tuple[str, float, float], 'top4_familyname': dict[str, int], 'fruits': set[str]}\n",
            "{1, 2, 3, 4, 5}\n"
          ]
        }
      ],
      "source": [
        "name='홍길동'\n",
        "age=17\n",
        "weight=70.7\n",
        "is_badman=False\n",
        "\n",
        "name:str='홍길동'\n",
        "age:int=17\n",
        "weight:float=70.7\n",
        "is_badman:bool=False\n",
        "\n",
        "booklist:list[str]=['삼국지','수호지','초한지']\n",
        "\n",
        "island:tuple[str,float,float]=('독도',131.52,37.14)\n",
        "\n",
        "top4_familyname:dict[str,int]={'김씨':123456,'나씨':345811,'박씨':963123,'이씨':865909}\n",
        "\n",
        "fruits:set[str]={'사과','배','수박','참외','딸기'}\n",
        "\n",
        "print(__annotations__)\n",
        "\n",
        "fruits : set[str]={'사과','배','수박','참외','딸기'}\n",
        "fruits={1,2,3,4,5}\n",
        "print(fruits)\n",
        "\n",
        "userInput=input()\n",
        "print('사용자가 입력한 값은<'+userInput+'>입니다.')\n",
        "\n",
        "userInput=input('값을 입력하세요:')\n",
        "print('사용자가 입력한 값은<'+userInput+'>입니다.')"
      ]
    },
    {
      "cell_type": "code",
      "source": [],
      "metadata": {
        "id": "rEJ8kGCmQLaf"
      },
      "execution_count": null,
      "outputs": []
    }
  ]
}