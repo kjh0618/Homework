{
  "nbformat": 4,
  "nbformat_minor": 0,
  "metadata": {
    "colab": {
      "provenance": [],
      "authorship_tag": "ABX9TyOHTDhH7GvlWXb3HohpBZVq",
      "include_colab_link": true
    },
    "kernelspec": {
      "name": "python3",
      "display_name": "Python 3"
    },
    "language_info": {
      "name": "python"
    }
  },
  "cells": [
    {
      "cell_type": "markdown",
      "metadata": {
        "id": "view-in-github",
        "colab_type": "text"
      },
      "source": [
        "<a href=\"https://colab.research.google.com/github/kjh0618/Homework/blob/main/88sorted_join_89eval.ipynb\" target=\"_parent\"><img src=\"https://colab.research.google.com/assets/colab-badge.svg\" alt=\"Open In Colab\"/></a>"
      ]
    },
    {
      "cell_type": "code",
      "execution_count": null,
      "metadata": {
        "colab": {
          "base_uri": "https://localhost:8080/",
          "height": 294
        },
        "id": "3vDSpteFRuKT",
        "outputId": "b05f8527-5c4b-4d7c-b27f-3ca24145780c"
      },
      "outputs": [
        {
          "output_type": "stream",
          "name": "stdout",
          "text": [
            "['1', '3', '5', 'a', 'a', 'i', 'k', 'k', 'k', 'k', 'n', 'n', 'n', 'n', 'r', 't', 'v', 'z']\n",
            "135aaikkkknnnnrtvz\n",
            "123 + 456 = answer\n",
            "round(3.14) = 3\n"
          ]
        },
        {
          "output_type": "error",
          "ename": "NameError",
          "evalue": "name '안녕하세요' is not defined",
          "traceback": [
            "\u001b[0;31m---------------------------------------------------------------------------\u001b[0m",
            "\u001b[0;31mNameError\u001b[0m                                 Traceback (most recent call last)",
            "\u001b[0;32m/tmp/ipython-input-3581725644.py\u001b[0m in \u001b[0;36m<cell line: 0>\u001b[0;34m()\u001b[0m\n\u001b[1;32m     13\u001b[0m \u001b[0mprint\u001b[0m\u001b[0;34m(\u001b[0m\u001b[0;34mf'{expression} = {eval(expression)}'\u001b[0m\u001b[0;34m)\u001b[0m\u001b[0;34m\u001b[0m\u001b[0;34m\u001b[0m\u001b[0m\n\u001b[1;32m     14\u001b[0m \u001b[0;34m\u001b[0m\u001b[0m\n\u001b[0;32m---> 15\u001b[0;31m \u001b[0mret\u001b[0m \u001b[0;34m=\u001b[0m \u001b[0meval\u001b[0m\u001b[0;34m(\u001b[0m\u001b[0;34m'안녕하세요'\u001b[0m\u001b[0;34m)\u001b[0m\u001b[0;34m\u001b[0m\u001b[0;34m\u001b[0m\u001b[0m\n\u001b[0m",
            "\u001b[0;32m<string>\u001b[0m in \u001b[0;36m<module>\u001b[0;34m\u001b[0m\n",
            "\u001b[0;31mNameError\u001b[0m: name '안녕하세요' is not defined"
          ]
        }
      ],
      "source": [
        "randstr = 'nk315nnkakkavnzrit'\n",
        "ret = sorted(randstr)\n",
        "print(ret)\n",
        "\n",
        "final = ''.join(ret)\n",
        "print(final)\n",
        "\n",
        "expression = '123 + 456'\n",
        "answer = eval(expression)\n",
        "print(f'{expression} = answer')\n",
        "\n",
        "expression = 'round(3.14)'\n",
        "print(f'{expression} = {eval(expression)}')\n",
        "\n",
        "ret = eval('안녕하세요')"
      ]
    }
  ]
}