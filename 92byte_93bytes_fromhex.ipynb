{
  "nbformat": 4,
  "nbformat_minor": 0,
  "metadata": {
    "colab": {
      "provenance": [],
      "authorship_tag": "ABX9TyPpb+gPFgkCzVkXUpGWawKP",
      "include_colab_link": true
    },
    "kernelspec": {
      "name": "python3",
      "display_name": "Python 3"
    },
    "language_info": {
      "name": "python"
    }
  },
  "cells": [
    {
      "cell_type": "markdown",
      "metadata": {
        "id": "view-in-github",
        "colab_type": "text"
      },
      "source": [
        "<a href=\"https://colab.research.google.com/github/kjh0618/Homework/blob/main/92byte_93bytes_fromhex.ipynb\" target=\"_parent\"><img src=\"https://colab.research.google.com/assets/colab-badge.svg\" alt=\"Open In Colab\"/></a>"
      ]
    },
    {
      "cell_type": "code",
      "execution_count": null,
      "metadata": {
        "colab": {
          "base_uri": "https://localhost:8080/",
          "height": 110
        },
        "id": "3vDSpteFRuKT",
        "outputId": "6a732220-ec9a-4285-fc21-f3e44ce297c6"
      },
      "outputs": [
        {
          "output_type": "error",
          "ename": "SyntaxError",
          "evalue": "bytes can only contain ASCII literal characters (ipython-input-1315172658.py, line 6)",
          "traceback": [
            "\u001b[0;36m  File \u001b[0;32m\"/tmp/ipython-input-1315172658.py\"\u001b[0;36m, line \u001b[0;32m6\u001b[0m\n\u001b[0;31m    bytesData2 = b'파이썬'\u001b[0m\n\u001b[0m                 ^\u001b[0m\n\u001b[0;31mSyntaxError\u001b[0m\u001b[0;31m:\u001b[0m bytes can only contain ASCII literal characters\n"
          ]
        }
      ],
      "source": [
        "strData = 'python'\n",
        "bytesData = b'python'\n",
        "print(strData[0]==bytesData[0])\n",
        "\n",
        "bytesData1 = b'python'\n",
        "bytesData2 = b'파이썬'\n",
        "\n",
        "bytesData = '파이썬'.encode()\n",
        "print(bytesData)\n",
        "\n",
        "bytesData = bytes('사랑해요 python!', 'utf-8')\n",
        "print(bytesData)\n",
        "\n",
        "bytesData = bytes.fromhex('50 79 74 68 6f 6e f8 fa')\n",
        "print(bytesData)\n"
      ]
    }
  ]
}