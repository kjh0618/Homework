{
  "nbformat": 4,
  "nbformat_minor": 0,
  "metadata": {
    "colab": {
      "provenance": [],
      "authorship_tag": "ABX9TyN9a3gmn+3M9EG5RlwLnezi",
      "include_colab_link": true
    },
    "kernelspec": {
      "name": "python3",
      "display_name": "Python 3"
    },
    "language_info": {
      "name": "python"
    }
  },
  "cells": [
    {
      "cell_type": "markdown",
      "metadata": {
        "id": "view-in-github",
        "colab_type": "text"
      },
      "source": [
        "<a href=\"https://colab.research.google.com/github/kjh0618/Homework/blob/main/62list_insert_63list_append.ipynb\" target=\"_parent\"><img src=\"https://colab.research.google.com/assets/colab-badge.svg\" alt=\"Open In Colab\"/></a>"
      ]
    },
    {
      "cell_type": "code",
      "execution_count": null,
      "metadata": {
        "colab": {
          "base_uri": "https://localhost:8080/"
        },
        "id": "heIjuPMaoUdi",
        "outputId": "2cbec92f-7855-4086-80b2-02e777354fd7"
      },
      "outputs": [
        {
          "output_type": "stream",
          "name": "stdout",
          "text": [
            "['목성', '토성', '천왕성', '해왕성']\n",
            "['목성', '토성', '천왕성', '명왕성', '해왕성']\n",
            "['목성', '토성', '천왕성', '해왕성', '명왕성']\n",
            "파일 이름을 입력하세요[1/3]:목성\n",
            "현재 저장된 파일들: ['목성']\n",
            "파일 이름을 입력하세요[2/3]:천왕성\n",
            "현재 저장된 파일들: ['목성', '천왕성']\n",
            "파일 이름을 입력하세요[3/3]:명왕성\n",
            "현재 저장된 파일들: ['목성', '천왕성', '명왕성']\n"
          ]
        }
      ],
      "source": [
        "outer_planets = ['목성', '천왕성', '해왕성']\n",
        "pos = outer_planets.index('천왕성')\n",
        "outer_planets.insert(pos, '토성')\n",
        "print(outer_planets)\n",
        "\n",
        "outer_planets.insert(-1, '명왕성')\n",
        "print(outer_planets)\n",
        "\n",
        "outer_planets = ['목성', '토성', '천왕성', '해왕성']\n",
        "outer_planets.insert(len(outer_planets), '명왕성')\n",
        "print(outer_planets)\n",
        "\n",
        "fileList = []\n",
        "for i in range(3):\n",
        "  fname = input(f'파일 이름을 입력하세요[{i+1}/3]:')\n",
        "  if fname not in fileList:\n",
        "    fileList.append(fname)\n",
        "  print(f'현재 저장된 파일들: {fileList}')"
      ]
    }
  ]
}