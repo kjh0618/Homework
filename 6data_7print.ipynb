{
  "nbformat": 4,
  "nbformat_minor": 0,
  "metadata": {
    "colab": {
      "provenance": [],
      "authorship_tag": "ABX9TyN6o8MlT32zBxbMnU/HCr+q",
      "include_colab_link": true
    },
    "kernelspec": {
      "name": "python3",
      "display_name": "Python 3"
    },
    "language_info": {
      "name": "python"
    }
  },
  "cells": [
    {
      "cell_type": "markdown",
      "metadata": {
        "id": "view-in-github",
        "colab_type": "text"
      },
      "source": [
        "<a href=\"https://colab.research.google.com/github/kjh0618/Homework/blob/main/6data_7print.ipynb\" target=\"_parent\"><img src=\"https://colab.research.google.com/assets/colab-badge.svg\" alt=\"Open In Colab\"/></a>"
      ]
    },
    {
      "cell_type": "code",
      "execution_count": null,
      "metadata": {
        "id": "W3b2a1kw2Ub0"
      },
      "outputs": [],
      "source": [
        "inData=15\n",
        "floatData=2.5\n",
        "complexData=1+1j\n",
        "\n",
        "isTrue=True\n",
        "isFalse=False\n",
        "\n",
        "setData={1,2,3,4,5}\n",
        "dictData={0:False,1:True}\n",
        "\n",
        "print('안녕하세요 파이썬!')\n",
        "\n",
        "hello='안녕하세요 파이썬!'\n",
        "print(hello)\n",
        "\n",
        "intData1=1\n",
        "intData2=2\n",
        "print(intData1+intData2)\n",
        "\n",
        "name='홍길동'\n",
        "phone='010-1234-5678'\n",
        "print('이름:',name,'핸드폰:',phone)\n",
        "\n",
        "print('#',end='')\n",
        "print('#'*5)\n",
        "\n",
        "print(name,phone,sep=';')\n"
      ]
    }
  ]
}