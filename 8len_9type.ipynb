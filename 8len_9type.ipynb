{
  "nbformat": 4,
  "nbformat_minor": 0,
  "metadata": {
    "colab": {
      "provenance": [],
      "authorship_tag": "ABX9TyNLiiZAeFEIVrytZRn8nRpy",
      "include_colab_link": true
    },
    "kernelspec": {
      "name": "python3",
      "display_name": "Python 3"
    },
    "language_info": {
      "name": "python"
    }
  },
  "cells": [
    {
      "cell_type": "markdown",
      "metadata": {
        "id": "view-in-github",
        "colab_type": "text"
      },
      "source": [
        "<a href=\"https://colab.research.google.com/github/kjh0618/Homework/blob/main/8len_9type.ipynb\" target=\"_parent\"><img src=\"https://colab.research.google.com/assets/colab-badge.svg\" alt=\"Open In Colab\"/></a>"
      ]
    },
    {
      "cell_type": "code",
      "execution_count": null,
      "metadata": {
        "colab": {
          "base_uri": "https://localhost:8080/"
        },
        "id": "TBzR0lKS33lA",
        "outputId": "53c90a12-f633-4eed-c4ba-ed466b32f5b2"
      },
      "outputs": [
        {
          "output_type": "stream",
          "name": "stdout",
          "text": [
            "13\n",
            "5\n",
            "3\n",
            "4\n",
            "2\n",
            "<class 'int'>\n",
            "<class 'str'>\n"
          ]
        }
      ],
      "source": [
        "strData='I love python'\n",
        "print(len(strData))\n",
        "\n",
        "listData=[1,2,3,4,5]\n",
        "print(len(listData))\n",
        "\n",
        "tupleData=('a','bc','def')\n",
        "print(len(tupleData))\n",
        "\n",
        "setData={'cup','shoes','shirts','pants'}\n",
        "print(len(setData))\n",
        "\n",
        "dictData={1:True,0:False}\n",
        "print(len(dictData))\n",
        "\n",
        "intData=1\n",
        "print(type(intData))\n",
        "\n",
        "strData='I love python!'\n",
        "print(type(strData))"
      ]
    }
  ]
}