{
  "nbformat": 4,
  "nbformat_minor": 0,
  "metadata": {
    "colab": {
      "provenance": [],
      "name": "50sequence_max_min_51sequence_s.count.ipynb",
      "authorship_tag": "ABX9TyPGTcueBDnXp8zmBRndlJw9",
      "include_colab_link": true
    },
    "kernelspec": {
      "name": "python3",
      "display_name": "Python 3"
    },
    "language_info": {
      "name": "python"
    }
  },
  "cells": [
    {
      "cell_type": "markdown",
      "metadata": {
        "id": "view-in-github",
        "colab_type": "text"
      },
      "source": [
        "<a href=\"https://colab.research.google.com/github/kjh0618/Homework/blob/main/50sequence_max_min_51sequence_s_count.ipynb\" target=\"_parent\"><img src=\"https://colab.research.google.com/assets/colab-badge.svg\" alt=\"Open In Colab\"/></a>"
      ]
    },
    {
      "cell_type": "code",
      "execution_count": null,
      "metadata": {
        "colab": {
          "base_uri": "https://localhost:8080/",
          "height": 418
        },
        "id": "jojWFPRNRiG9",
        "outputId": "c3df24ff-2060-4fd8-b9e1-ab7fb91f4dae"
      },
      "outputs": [
        {
          "output_type": "stream",
          "name": "stdout",
          "text": [
            "s mo\n",
            "Time \n",
            "Don't waste your time!\n",
            "Time is money! Don't waste your time\n",
            "time!\n",
            "Time is money! Don't waste your time!\n",
            "[0, 2, 4, 6, 8]\n",
            "[1, 3, 5, 7, 9]\n",
            "https://blog.naver.com/samsjang\n",
            "[0, 1, 2, 3, 4, 5]\n",
            "[3, 4, 5, 0, 1, 2]\n"
          ]
        },
        {
          "output_type": "error",
          "ename": "TypeError",
          "evalue": "can only concatenate list (not \"str\") to list",
          "traceback": [
            "\u001b[0;31m---------------------------------------------------------------------------\u001b[0m",
            "\u001b[0;31mTypeError\u001b[0m                                 Traceback (most recent call last)",
            "\u001b[0;32m/tmp/ipython-input-568370471.py\u001b[0m in \u001b[0;36m<cell line: 0>\u001b[0;34m()\u001b[0m\n\u001b[1;32m     29\u001b[0m \u001b[0mlistData\u001b[0m \u001b[0;34m=\u001b[0m \u001b[0;34m[\u001b[0m\u001b[0;36m0\u001b[0m \u001b[0;34m,\u001b[0m\u001b[0;36m1\u001b[0m\u001b[0;34m,\u001b[0m \u001b[0;36m2\u001b[0m\u001b[0;34m]\u001b[0m\u001b[0;34m\u001b[0m\u001b[0;34m\u001b[0m\u001b[0m\n\u001b[1;32m     30\u001b[0m \u001b[0mstrData\u001b[0m \u001b[0;34m=\u001b[0m \u001b[0;34m'시퀀스 자료의 연결'\u001b[0m\u001b[0;34m\u001b[0m\u001b[0;34m\u001b[0m\u001b[0m\n\u001b[0;32m---> 31\u001b[0;31m \u001b[0mprint\u001b[0m\u001b[0;34m(\u001b[0m\u001b[0mlistData\u001b[0m \u001b[0;34m+\u001b[0m \u001b[0mstrData\u001b[0m\u001b[0;34m)\u001b[0m\u001b[0;34m\u001b[0m\u001b[0;34m\u001b[0m\u001b[0m\n\u001b[0m\u001b[1;32m     32\u001b[0m \u001b[0;34m\u001b[0m\u001b[0m\n\u001b[1;32m     33\u001b[0m \u001b[0mlyrics1\u001b[0m \u001b[0;34m=\u001b[0m \u001b[0;34m'빗소리만 하얗게 나를'\u001b[0m\u001b[0;34m\u001b[0m\u001b[0;34m\u001b[0m\u001b[0m\n",
            "\u001b[0;31mTypeError\u001b[0m: can only concatenate list (not \"str\") to list"
          ]
        }
      ],
      "source": [
        "listData = [9.96, 1.27, 5.07, 6.45, 8.38, 9.29, 4.93, 7.73, 3.71, 0.93]\n",
        "print(max(listData))\n",
        "print(min(listData))\n",
        "\n",
        "strData = 'AlotofThingsOccurEachday'\n",
        "print(max(strData))\n",
        "print(min(strData))\n",
        "\n",
        "strList = ['jang', 'apple12', '3sung', 'sam']\n",
        "print(max(strList))\n",
        "print(min(strList))\n",
        "\n",
        "list = [1, 2, 3, 'a', 'b', 'c']\n",
        "print(max(list1))\n",
        "\n",
        "lyrics = 'A lot of things occur each day! every day!'\n",
        "print(lyrics.count('o'))\n",
        "\n",
        "lyrics = 'A lot of things occur each day! every day!'\n",
        "print(lyrics.count('day'))\n",
        "\n",
        "lyrics = 'A lot of things occur each day! every day!'\n",
        "print(lyrics.count(''))\n",
        "\n",
        "listData = [1, 6, 1, 4, 8, 4, 12, 1, 0, 9, 9, 7, 4, 3, 6, 7, 3, 2]\n",
        "print(listData.count(1))\n"
      ]
    }
  ]
}