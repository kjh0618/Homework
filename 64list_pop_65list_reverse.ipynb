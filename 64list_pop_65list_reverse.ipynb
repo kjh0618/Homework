{
  "nbformat": 4,
  "nbformat_minor": 0,
  "metadata": {
    "colab": {
      "provenance": [],
      "authorship_tag": "ABX9TyMZZLYsDs6ZAXDy104Yx7HX",
      "include_colab_link": true
    },
    "kernelspec": {
      "name": "python3",
      "display_name": "Python 3"
    },
    "language_info": {
      "name": "python"
    }
  },
  "cells": [
    {
      "cell_type": "markdown",
      "metadata": {
        "id": "view-in-github",
        "colab_type": "text"
      },
      "source": [
        "<a href=\"https://colab.research.google.com/github/kjh0618/Homework/blob/main/64list_pop_65list_reverse.ipynb\" target=\"_parent\"><img src=\"https://colab.research.google.com/assets/colab-badge.svg\" alt=\"Open In Colab\"/></a>"
      ]
    },
    {
      "cell_type": "code",
      "execution_count": null,
      "metadata": {
        "colab": {
          "base_uri": "https://localhost:8080/"
        },
        "id": "heIjuPMaoUdi",
        "outputId": "852bb23d-9156-4674-a2d8-e42a87caf9b7"
      },
      "outputs": [
        {
          "output_type": "stream",
          "name": "stdout",
          "text": [
            "pop()으로 추출된 값: 43, numbers = [14, 5, 18, 45, 10]\n",
            "pop()으로 추출된 값: 45, numbers = [14, 5, 18, 10, 43]\n",
            "pop()으로 추출된 값: 43, numbers = [14, 5, 18, 10]\n",
            "pop()으로 추출된 값: 45, numbers = [14, 5, 18, 10, 43]\n",
            "pop()으로 추출된 값: 43, numbers = [14, 5, 18, 10]\n",
            "pop()으로 추출된 값: 45, numbers = [14, 5, 18, 10, 43]\n",
            "pop()으로 추출된 값: 43, numbers = [14, 5, 18, 10]\n",
            "pop()으로 추출된 값: 45, numbers = [14, 5, 18, 10, 43]\n",
            "pop()으로 추출된 값: 43, numbers = [14, 5, 18, 10]\n",
            "pop()으로 추출된 값: 45, numbers = [14, 5, 18, 10, 43]\n",
            "pop()으로 추출된 값: 43, numbers = [14, 5, 18, 10]\n",
            "pop()으로 추출된 값: 45, numbers = [14, 5, 18, 10, 43]\n",
            "[5, 4, 3, 2, 1]\n",
            "[1, 2, 3, 4, 5]\n",
            "[5, 4, 3, 2, 1]\n"
          ]
        }
      ],
      "source": [
        "numbers = [14, 5, 18, 45, 10, 43]\n",
        "for _ in range(len(numbers)):\n",
        "  ret = numbers.pop()\n",
        "  print(f'pop()으로 추출된 값: {ret}, numbers = {numbers}')\n",
        "\n",
        "  numbers = [14, 5, 18, 45, 10, 43]\n",
        "  ret = numbers.pop(3)\n",
        "  print(f'pop()으로 추출된 값: {ret}, numbers = {numbers}')\n",
        "\n",
        "numbers = [1, 2, 3, 4, 5]\n",
        "ret = reversed(numbers)\n",
        "print(list(ret))\n",
        "print(numbers)\n",
        "\n",
        "numbers = [1, 2, 3, 4, 5]\n",
        "numbers.reverse()\n",
        "print(numbers)"
      ]
    }
  ]
}