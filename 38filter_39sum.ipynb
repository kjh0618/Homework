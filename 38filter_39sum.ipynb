{
  "nbformat": 4,
  "nbformat_minor": 0,
  "metadata": {
    "colab": {
      "provenance": [],
      "authorship_tag": "ABX9TyPkFUfLy5mAUFbLq7rrqDX4",
      "include_colab_link": true
    },
    "kernelspec": {
      "name": "python3",
      "display_name": "Python 3"
    },
    "language_info": {
      "name": "python"
    }
  },
  "cells": [
    {
      "cell_type": "markdown",
      "metadata": {
        "id": "view-in-github",
        "colab_type": "text"
      },
      "source": [
        "<a href=\"https://colab.research.google.com/github/kjh0618/Homework/blob/main/38filter_39sum.ipynb\" target=\"_parent\"><img src=\"https://colab.research.google.com/assets/colab-badge.svg\" alt=\"Open In Colab\"/></a>"
      ]
    },
    {
      "cell_type": "code",
      "execution_count": null,
      "metadata": {
        "id": "gsZbkGdyUwob"
      },
      "outputs": [],
      "source": [
        "def getPrime(x):\n",
        "  if x == 2:\n",
        "    return True\n",
        "  if x <= 1 or x%2 == 0:\n",
        "    return False\n",
        "\n",
        "  for i in range(3, int(x**(1/2))+1, 2):\n",
        "    if x%i == 0:\n",
        "      return False\n",
        "  else:\n",
        "    return Ture\n",
        "\n",
        "intList = [x for x in range(1,101)]\n",
        "ret = filter(getPrime, intList)\n",
        "for p in ret:\n",
        "  print(p, end='')\n",
        "\n",
        "numList = [1, 3, 5, 7, 9]\n",
        "ret = sum(numList)\n",
        "print(ret)\n",
        "\n",
        "ret = sum(numList, 10)\n",
        "print(ret)\n",
        "\n",
        "randomList = [1, 2, 'SAMSUNG', 'LG']\n",
        "ret = sum(randomList)"
      ]
    }
  ]
}